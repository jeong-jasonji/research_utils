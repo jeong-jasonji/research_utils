{
 "cells": [
  {
   "cell_type": "code",
   "execution_count": null,
   "id": "97ac4133",
   "metadata": {},
   "outputs": [],
   "source": [
    "import optuna"
   ]
  },
  {
   "cell_type": "code",
   "execution_count": null,
   "id": "201cda7c",
   "metadata": {},
   "outputs": [],
   "source": [
    "# define an objective\n",
    "def objective(trial):\n",
    "    # this will be a function to run your classification code with some hyperparameters being changed\n",
    "    \n",
    "    # modify some parameter for the trial - see optuna for more details on trial.suggest types\n",
    "    train_conf['LR'] = trial.suggest_float(\"learning_rate\", low=0.000002, high=0.0002, step=0.000002)\n",
    "    train_conf['WEIGHT_DECAY'] = trial.suggest_float(\"weight_decay\", low=0.00, high=0.5, step=0.01)\n",
    "    \n",
    "    # train classifier\n",
    "    clf_outputs = train_clf('whatever your classification function needs')\n",
    "    \n",
    "    # return some value for optuna to minimize or maximize\n",
    "    return clf_outputs['loss']"
   ]
  },
  {
   "cell_type": "code",
   "execution_count": null,
   "id": "90bc39a0",
   "metadata": {},
   "outputs": [],
   "source": [
    "# Create a study object and optimize the objective function.\n",
    "# storage has to be in the form 'sqlite:///___.db'\n",
    "study = optuna.create_study(direction='minimize', storage='sqlite:///optuna_trials_celeba_makeup.db')\n",
    "# creat the number of random trials you want to run\n",
    "study.optimize(objective, n_trials=100)\n",
    "\n",
    "# there are other parameters you can save like the optimal parameters and whatnot (see optuna documentation)"
   ]
  },
  {
   "cell_type": "code",
   "execution_count": null,
   "id": "038d6d66",
   "metadata": {},
   "outputs": [],
   "source": []
  }
 ],
 "metadata": {
  "kernelspec": {
   "display_name": "Python 3",
   "language": "python",
   "name": "python3"
  },
  "language_info": {
   "codemirror_mode": {
    "name": "ipython",
    "version": 3
   },
   "file_extension": ".py",
   "mimetype": "text/x-python",
   "name": "python",
   "nbconvert_exporter": "python",
   "pygments_lexer": "ipython3",
   "version": "3.8.8"
  }
 },
 "nbformat": 4,
 "nbformat_minor": 5
}
