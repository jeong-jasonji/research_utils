{
 "cells": [
  {
   "cell_type": "markdown",
   "id": "3df07f97",
   "metadata": {},
   "source": [
    "# notebook to get the annotations from MD.ai"
   ]
  },
  {
   "cell_type": "code",
   "execution_count": null,
   "id": "0f8bed3e",
   "metadata": {},
   "outputs": [],
   "source": [
    "import os\n",
    "import cv2 \n",
    "import pdb\n",
    "import mdai\n",
    "import json\n",
    "import numpy as np\n",
    "import dicom2nifti \n",
    "import nibabel as nib\n",
    "import dicom2nifti\n",
    "import pandas as pd\n",
    "import pydicom as pyd\n",
    "from tqdm import tqdm\n",
    "from pathlib import Path\n",
    "from hashlib import sha256"
   ]
  },
  {
   "cell_type": "markdown",
   "id": "340d478e",
   "metadata": {},
   "source": [
    "# get the user's md.ai token\n",
    "### you can get your md.ai access token by logging into md.ai\n",
    "- Click on your user icon at the top right corner\n",
    "- Then select user settings to go to your account/user settings menu\n",
    "- Finally click access tokens tab at the top\n",
    "- You may choose to create or set up the specific token however you want\n",
    "- then copy the token into a json file \"mdai_token.json\" or any .json filename."
   ]
  },
  {
   "cell_type": "code",
   "execution_count": null,
   "id": "608a1705",
   "metadata": {
    "scrolled": true
   },
   "outputs": [],
   "source": [
    "# get the MDai client\n",
    "with open('mdai_token.json','r') as f:\n",
    "    json_tokens = json.load(f)\n",
    "\n",
    "mdaiproject_id = \"your_project_id\"\n",
    "datasetid= [\"your_dataset_id\"]\n",
    "mdai_client = mdai.Client(domain=json_tokens['domain'], access_token=json_tokens['access_token'])"
   ]
  },
  {
   "cell_type": "markdown",
   "id": "790c43cf",
   "metadata": {},
   "source": [
    "# get the annotations file\n",
    "### MD.ai has security measures that requires you to do the following:\n",
    "- go to MD.ai, go to the dataset\n",
    "- on the lower left corner, there is an export button, press that\n",
    "- go to annotations and export as a json format\n",
    "- download the export file (zip)\n",
    "- unzip the file and upload the .json file to the server to load annotations into\n",
    "- continue the bottom steps"
   ]
  },
  {
   "cell_type": "code",
   "execution_count": null,
   "id": "976b05c5",
   "metadata": {},
   "outputs": [],
   "source": [
    "# get the segmentations (from the exported annotation files' json)\n",
    "results = mdai.common_utils.json_to_dataframe('mdai_project_project_id_annotations_labelgroup datetime.json')"
   ]
  },
  {
   "cell_type": "code",
   "execution_count": null,
   "id": "75cb4472",
   "metadata": {},
   "outputs": [],
   "source": []
  }
 ],
 "metadata": {
  "kernelspec": {
   "display_name": "Python 3 (ipykernel)",
   "language": "python",
   "name": "python3"
  },
  "language_info": {
   "codemirror_mode": {
    "name": "ipython",
    "version": 3
   },
   "file_extension": ".py",
   "mimetype": "text/x-python",
   "name": "python",
   "nbconvert_exporter": "python",
   "pygments_lexer": "ipython3",
   "version": "3.9.13"
  }
 },
 "nbformat": 4,
 "nbformat_minor": 5
}
