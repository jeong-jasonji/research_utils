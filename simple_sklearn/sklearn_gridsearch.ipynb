{
 "cells": [
  {
   "cell_type": "code",
   "execution_count": null,
   "id": "c33d47b5",
   "metadata": {},
   "outputs": [],
   "source": [
    "# quick sklearn\n",
    "import numpy as np\n",
    "import pandas as pd\n",
    "from sklearn.model_selection import train_test_split\n",
    "# late fusion training libraries\n",
    "from sklearn.svm import SVC\n",
    "from sklearn.ensemble import RandomForestClassifier\n",
    "from sklearn.linear_model import LogisticRegression\n",
    "from sklearn.preprocessing import Normalizer, StandardScaler, MinMaxScaler, PowerTransformer, MaxAbsScaler, LabelEncoder\n",
    "# pipeline and grid search libraries\n",
    "from sklearn.pipeline import Pipeline\n",
    "from sklearn.model_selection import GridSearchCV\n",
    "# classification report\n",
    "from sklearn.metrics import classification_report"
   ]
  },
  {
   "cell_type": "code",
   "execution_count": null,
   "id": "07f3b18e",
   "metadata": {},
   "outputs": [],
   "source": [
    "# load the csv file\n",
    "df = pd.read_csv('your csv file')\n",
    "# split into train and test sets\n",
    "train, test = train_test_split(df, test_size=0.33)"
   ]
  },
  {
   "cell_type": "code",
   "execution_count": null,
   "id": "d29a89cc",
   "metadata": {},
   "outputs": [],
   "source": [
    "# set the X and y columns\n",
    "x_cols = ['list of column names to use as your features']\n",
    "y_cols = ['column name of the label']\n",
    "# set the X and y\n",
    "X_train = train[x_cols]\n",
    "y_train = train[y_cols]\n",
    "\n",
    "X_test = test[x_cols]\n",
    "y_test = test[y_cols]"
   ]
  },
  {
   "cell_type": "code",
   "execution_count": null,
   "id": "50d2d967",
   "metadata": {},
   "outputs": [],
   "source": [
    "# set up grid search parameters for different models (other models and model parameters can be used see: \n",
    "# https://scikit-learn.org/stable/supervised_learning.html#supervised-learning)\n",
    "if fusion_model == 'rf':  # random forest\n",
    "    pipe = Pipeline([('scaler', StandardScaler()), \n",
    "                     ('RF', RandomForestClassifier(random_state=rand_state))])\n",
    "    params = {'scaler': [StandardScaler(), MinMaxScaler(), Normalizer(), MaxAbsScaler()],\n",
    "              'RF__n_estimators':[10, 25, 50, 100], \n",
    "              'RF__criterion':[\"gini\", \"entropy\", \"log_loss\"],\n",
    "              'RF__class_weight': ['balanced']\n",
    "             }\n",
    "elif fusion_model == 'lr': # logistic regression classifier\n",
    "    pipe = Pipeline([('scaler', StandardScaler()), \n",
    "                     ('LR', LogisticRegression(random_state=rand_state))])\n",
    "    params = {'scaler': [StandardScaler(), MinMaxScaler(), Normalizer(), MaxAbsScaler()],\n",
    "              'LR__penalty':[\"l1\", \"l2\", 'elasticnet'], \n",
    "              'LR__tol':[1.0e-3, 1.0e-4, 1.0e-5],\n",
    "              'LR__C': [0.1, 0.25, 0.5, 0.75, 1.0],\n",
    "              'LR__class_weight': ['balanced'],\n",
    "              'LR__max_iter': [100, 250, 500, 1000]\n",
    "             }\n",
    "else: # SVM\n",
    "    pipe = Pipeline([('scaler', StandardScaler()), \n",
    "                     ('SVM', SVC(probability=True, random_state=rand_state))])\n",
    "    params = {'scaler': [StandardScaler(), MinMaxScaler(), Normalizer(), MaxAbsScaler()],\n",
    "              'SVM__C':[0.001,0.1,10,100,10e5], \n",
    "              'SVM__gamma':[0.1,0.01]\n",
    "             }"
   ]
  },
  {
   "cell_type": "code",
   "execution_count": null,
   "id": "d8898616",
   "metadata": {},
   "outputs": [],
   "source": [
    "# train models through grid search\n",
    "clf = GridSearchCV(pipe, param_grid=params, cv=5)\n",
    "clf.fit(X_train, y_train)"
   ]
  },
  {
   "cell_type": "code",
   "execution_count": null,
   "id": "774ac335",
   "metadata": {},
   "outputs": [],
   "source": [
    "# get the prediction \n",
    "Y_pred = clf.predict(X_test) # get prediction label\n",
    "Y_scores = clf.predict_proba(X_test) # get prediction probability (some sklearn models do not have this option or needs a flag during training to have this option)"
   ]
  },
  {
   "cell_type": "code",
   "execution_count": null,
   "id": "cb13198a",
   "metadata": {},
   "outputs": [],
   "source": [
    "# get classification report\n",
    "print(classification_report(y_test, Y_pred))"
   ]
  }
 ],
 "metadata": {
  "kernelspec": {
   "display_name": "Python 3",
   "language": "python",
   "name": "python3"
  },
  "language_info": {
   "codemirror_mode": {
    "name": "ipython",
    "version": 3
   },
   "file_extension": ".py",
   "mimetype": "text/x-python",
   "name": "python",
   "nbconvert_exporter": "python",
   "pygments_lexer": "ipython3",
   "version": "3.8.8"
  }
 },
 "nbformat": 4,
 "nbformat_minor": 5
}
